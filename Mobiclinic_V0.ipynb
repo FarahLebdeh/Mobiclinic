{
  "cells": [
    {
      "cell_type": "markdown",
      "metadata": {
        "id": "view-in-github",
        "colab_type": "text"
      },
      "source": [
        "<a href=\"https://colab.research.google.com/github/FarahLebdeh/Mobiclinic/blob/main/Mobiclinic_V0.ipynb\" target=\"_parent\"><img src=\"https://colab.research.google.com/assets/colab-badge.svg\" alt=\"Open In Colab\"/></a>"
      ]
    },
    {
      "cell_type": "markdown",
      "metadata": {
        "id": "rK1QnVjexaU3"
      },
      "source": [
        "# **Connect Google Colab with Google Drive**"
      ]
    },
    {
      "cell_type": "code",
      "execution_count": null,
      "metadata": {
        "id": "xwD-OUlDZsde"
      },
      "outputs": [],
      "source": [
        "from google.colab import drive\n",
        "from os.path import join\n",
        "drive.mount('/content/drive')"
      ]
    },
    {
      "cell_type": "code",
      "execution_count": null,
      "metadata": {
        "id": "LKInxYPmOsVy"
      },
      "outputs": [],
      "source": [
        "%pip install 'firebase_admin>=4.1.0'\n",
        "%pip install 'tensorflow>=2.1.0'\n",
        "%pip install flask flask-jsonpify flask-sqlalchemy flask-restful\n",
        "%pip freeze"
      ]
    },
    {
      "cell_type": "markdown",
      "metadata": {
        "id": "4_fS6D1jeHSD"
      },
      "source": [
        "\n",
        "# **Import Libraries**"
      ]
    },
    {
      "cell_type": "code",
      "execution_count": null,
      "metadata": {
        "id": "broohhhf_naM"
      },
      "outputs": [],
      "source": [
        "import os\n",
        "import glob\n",
        "import re\n",
        "import csv\n",
        "import numpy\n",
        "import numpy as np\n",
        "from re import match\n",
        "import scipy.stats as st\n",
        "import pandas as pd \n",
        "import random\n",
        "import numpy as np \n",
        "import nltk\n",
        "import string\n",
        "import statistics\n",
        "from joblib import dump, load\n",
        "from nltk.corpus import stopwords\n",
        "from nltk.tokenize import RegexpTokenizer\n",
        "from scipy.stats import entropy\n",
        "from collections import Counter\n",
        "from scipy import stats\n",
        "from oauth2client.client import GoogleCredentials\n",
        "import warnings\n",
        "from flask import Flask\n",
        "from flask_restful import Resource, Api, reqparse\n",
        "from sqlalchemy import create_engine\n",
        "from json import dumps\n",
        "from firebase_admin import auth\n",
        "from firebase_admin import credentials\n",
        "from firebase_admin import firestore\n",
        "from sklearn.datasets import load_iris\n",
        "from tabulate import tabulate\n",
        "\n"
      ]
    },
    {
      "cell_type": "markdown",
      "metadata": {
        "id": "vzm8d18HgEla"
      },
      "source": [
        "# **Read Text File**"
      ]
    },
    {
      "cell_type": "markdown",
      "metadata": {
        "id": "bNfbvgP3yK6p"
      },
      "source": [
        "**Print content of the files then save all the data in one text file \"Output.txt\"**"
      ]
    },
    {
      "cell_type": "code",
      "execution_count": null,
      "metadata": {
        "id": "7bYFEZcLvOru"
      },
      "outputs": [],
      "source": [
        "count = 0\n",
        "for filename in os.listdir(\"/content/drive/MyDrive/Colab Notebooks/All Data without 11/All Data\"):\n",
        "   with open(os.path.join(\"/content/drive/MyDrive/Colab Notebooks/All Data without 11/All Data\", filename), 'r') as f:\n",
        "       text = f.read()\n",
        "      #  to p\"rint content\n",
        "       #print(text)\n",
        "       count += 1\n",
        "       print(str(count)+\" \"+filename+\" \"+text)\n",
        "        # save name of file and content      \n",
        "      #  print(text , file=open(\"/content/drive/MyDrive/Colab Notebooks/Output/data/result.txt\", \"a\"))"
      ]
    },
    {
      "cell_type": "code",
      "execution_count": null,
      "metadata": {
        "id": "Gc9_xX6zxQRz"
      },
      "outputs": [],
      "source": [
        "exName = []\n",
        "for filename in os.listdir(\"/content/drive/MyDrive/Colab Notebooks/All Data without 11/All Data\"):\n",
        "   with open(os.path.join(\"/content/drive/MyDrive/Colab Notebooks/All Data without 11/All Data\", filename), 'r') as f:\n",
        "    #  print(filename)\n",
        "     x = filename.split(\"_\")\n",
        "     exName.append(x[2])\n"
      ]
    },
    {
      "cell_type": "markdown",
      "metadata": {
        "id": "8ZRaspfSvDjU"
      },
      "source": [
        "**Remove Time From Files**"
      ]
    },
    {
      "cell_type": "code",
      "execution_count": null,
      "metadata": {
        "id": "Ok_Hdna_FU9m"
      },
      "outputs": [],
      "source": [
        "def removeZero(s):\n",
        "  # example1 = \"/content/drive/MyDrive/Colab Notebooks/Output/data/result.txt\"\n",
        "  example1 = s\n",
        "  file1 = open(example1, \"r\")\n",
        "  Lines = file1.readlines()\n",
        "  listfile = []\n",
        "  content2_list = []\n",
        "  count = 0\n",
        "\n",
        "  with open(example1) as f:\n",
        "      lines = f.read()\n",
        "      content_list = lines.splitlines()\n",
        "      \n",
        "  for line in content_list:\n",
        "    splitted_lines = line.split(' ')\n",
        "  # print(splitted_lines)\n",
        "    for line1 in splitted_lines:\n",
        "     listfile.append(line1[6:])\n",
        "     listfile.append('\\n')\n",
        "\n",
        "  file2 = open(\"/content/drive/MyDrive/Colab Notebooks/Output/data/new_result1.txt\", 'w')\n",
        "  for line in listfile:\n",
        "    file2.write(line)"
      ]
    },
    {
      "cell_type": "code",
      "execution_count": null,
      "metadata": {
        "id": "socfIEUc2Yk9"
      },
      "outputs": [],
      "source": [
        "with open('/content/drive/MyDrive/Colab Notebooks/Output/data/new_result.csv', mode ='r')as file:\n",
        "  # reading the CSV file\n",
        "  csvFile = csv.reader(file)\n",
        " \n",
        "  # displaying the contents of the CSV file\n",
        "  for lines in csvFile:\n",
        "        # print(lines)\n",
        "        lines.append(0)"
      ]
    },
    {
      "cell_type": "code",
      "execution_count": null,
      "metadata": {
        "id": "QTOwsLPD-2vj"
      },
      "outputs": [],
      "source": [
        "df = pd.read_csv('/content/drive/MyDrive/Colab Notebooks/Output/data/test1.csv')\n",
        "# print(df.to_string())\n",
        "df.head(130)\n",
        "# df.info()"
      ]
    },
    {
      "cell_type": "markdown",
      "metadata": {
        "id": "TGvQBv771wrq"
      },
      "source": [
        "**Add Zero's row**"
      ]
    },
    {
      "cell_type": "code",
      "execution_count": null,
      "metadata": {
        "cellView": "form",
        "id": "k7CNZ0m2Oi70"
      },
      "outputs": [],
      "source": [
        "#@title\n",
        "# row= ['0','0','0','0','0','0','0','0','0','0','0','0','0','0','0','0','0','0','0','0','0','0','0','0','0','0','0','0','0','0','0','0','0','0','0','0']\n",
        "row={'Ax1':[0],'Ay1':[0],'Az1':[0],'Gx1':[0],'Gy1':[0],'Gz1':[0],'Ax2':[0],'Ay2':[0],'Az2':[0],'Gx2':[0],'Gy2':[0],'Gz2':[0],'Ax3':[0],'Ay3':[0],'Az3':[0],'Gx3':[0],'Gy3':[0],'Gz3':[0],'Ax4':[0],'Ay4':[0],'Az4':[0],'Gx4':[0],'Gy4':[0],'Gz4':[0],'Ax5':[0],'Ay5':[0],'Az5':[0],'Gx5':[0],'Gy5':[0],'Gz5':[0],'Ax6':[0],'Ay6':[0],'Az6':[0],'Gx6':[0],'Gy6':[0],'Gz6':[0],'Ax7':[0],'Ay7':[0],'Az7':[0],'Gx7':[0],'Gy7':[0],'Gz7':[0],'Ax8':[0],'Ay8':[0],'Az8':[0],'Gx8':[0],'Gy8':[0],'Gz8':[0],'Ax9':[0],'Ay9':[0],'Az9':[0],'Gx9':[0],'Gy9':[0],'Gz9':[0],'Ax10':[0],'Ay10':[0],'Az10':[0],'Gx10':[0],'Gy10':[0],'Gz10':[0],'Ax11':[0],'Ay11':[0],'Az11':[0],'Gx11':[0],'Gy11':[0],'Gz11':[0],'Ax12':[0],'Ay12':[0],'Az12':[0],'Gx12':[0],'Gy12':[0],'Gz12':[0],'Ax13':[0],'Ay13':[0],'Az13':[0],'Gx13':[0],'Gy13':[0],'Gz13':[0],'Ax14':[0],'Ay14':[0],'Az14':[0],'Gx14':[0],'Gy14':[0],'Gz14':[0],'Ax15':[0],'Ay15':[0],'Az15':[0],'Gx15':[0],'Gy15':[0],'Gz15':[0],'Ax16':[0],'Ay16':[0],'Az16':[0],'Gx16':[0],'Gy16':[0],'Gz16':[0],'Ax17':[0],'Ay17':[0],'Az17':[0],'Gx17':[0],'Gy17':[0],'Gz17':[0],'Ax18':[0],'Ay18':[0],'Az18':[0],'Gx18':[0],'Gy18':[0],'Gz18':[0],'Ax19':[0],'Ay19':[0],'Az19':[0],'Gx19':[0],'Gy19':[0],'Gz19':[0],'Ax20':[0],'Ay20':[0],'Az20':[0],'Gx20':[0],'Gy20':[0],'Gz20':[0],'Ax21':[0],'Ay21':[0],'Az21':[0],'Gx21':[0],'Gy21':[0],'Gz21':[0],'Ax22':[0],'Ay22':[0],'Az22':[0],'Gx22':[0],'Gy22':[0],'Gz22':[0],'Ax23':[0],'Ay23':[0],'Az23':[0],'Gx23':[0],'Gy23':[0],'Gz23':[0],'Ax24':[0],'Ay24':[0],'Az24':[0],'Gx24':[0],'Gy24':[0],'Gz24':[0],'Ax25':[0],'Ay25':[0],'Az25':[0],'Gx25':[0],'Gy25':[0],'Gz25':[0],'Ax26':[0],'Ay26':[0],'Az26':[0],'Gx26':[0],'Gy26':[0],'Gz26':[0],'Ax27':[0],'Ay27':[0],'Az27':[0],'Gx27':[0],'Gy27':[0],'Gz27':[0],'Ax28':[0],'Ay28':[0],'Az28':[0],'Gx28':[0],'Gy28':[0],'Gz28':[0],'Ax29':[0],'Ay29':[0],'Az29':[0],'Gx29':[0],'Gy29':[0],'Gz29':[0],'Ax30':[0],'Ay30':[0],'Az30':[0],'Gx30':[0],'Gy30':[0],'Gz30':[0],'Ax31':[0],'Ay31':[0],'Az31':[0],'Gx31':[0],'Gy31':[0],'Gz31':[0],'Ax32':[0],'Ay32':[0],'Az32':[0],'Gx32':[0],'Gy32':[0],'Gz32':[0],'Ax33':[0],'Ay33':[0],'Az33':[0],'Gx33':[0],'Gy33':[0],'Gz33':[0],'Ax34':[0],'Ay34':[0],'Az34':[0],'Gx34':[0],'Gy34':[0],'Gz34':[0],'Ax35':[0],'Ay35':[0],'Az35':[0],'Gx35':[0],'Gy35':[0],'Gz35':[0],'Ax36':[0],'Ay36':[0],'Az36':[0],'Gx36':[0],'Gy36':[0],'Gz36':[0],'Ax37':[0],'Ay37':[0],'Az37':[0],'Gx37,Gy37':[0],'Gz37':[0],'Ax38':[0],'Ay38':[0],'Az38':[0],'Gx38':[0],'Gy38':[0],'Gz38':[0],'Ax39':[0],'Ay39':[0],'Az39':[0],'Gx39':[0],'Gy39':[0],'Gz39':[0],'Ax40':[0],'Ay40':[0],'Az40':[0],'Gx40':[0],'Gy40':[0],'Gz40':[0],'Ax41':[0],'Ay41':[0],'Az41':[0],'Gx41':[0],'Gy41':[0],'Gz41':[0],'Ax42':[0],'Ay42':[0],'Az42':[0],'Gx42':[0],'Gy42':[0],'Gz42':[0],'Ax43':[0],'Ay43':[0],'Az43':[0],'Gx43':[0],'Gy43':[0],'Gz43':[0],'Ax44':[0],'Ay44':[0],'Az44':[0],'Gx44':[0],'Gy44':[0],'Gz44':[0],'Ax45':[0],'Ay45':[0],'Az45':[0],'Gx45':[0],'Gy45':[0],'Gz45':[0],'Ax46':[0],'Ay46':[0],'Az46':[0],'Gx46':[0],'Gy46':[0],'Gz46':[0],'Ax47':[0],'Ay47':[0],'Az47':[0],'Gx47':[0],'Gy47':[0],'Gz47':[0],'Ax48':[0],'Ay48':[0],'Az48':[0],'Gx48':[0],'Gy48':[0],'Gz48':[0],'Ax49':[0],'Ay49':[0],'Az49':[0],'Gx49':[0],'Gy49':[0],'Gz49':[0],'Ax50':[0],'Ay50':[0],'Az50':[0],'Gx50':[0],'Gy50':[0],'Gz50':[0],'Ax51':[0],'Ay51':[0],'Az51':[0],'Gx51':[0],'Gy51':[0],'Gz51':[0],'Ax52':[0],'Ay52':[0],'Az52':[0],'Gx52':[0],'Gy52':[0],'Gz52':[0],'Ax53':[0],'Ay53':[0],'Az53':[0],'Gx53':[0],'Gy53':[0],'Gz53':[0],'Ax54':[0],'Ay54':[0],'Az54':[0],'Gx54':[0],'Gy54':[0],'Gz54':[0],'Ax55':[0],'Ay55':[0],'Az55':[0],'Gx55':[0],'Gy55':[0],'Gz55':[0],'Ax56':[0],'Ay56':[0],'Az56':[0],'Gx56':[0],'Gy56':[0],'Gz56':[0],'Ax57':[0],'Ay57':[0],'Az57':[0],'Gx57':[0],'Gy57':[0],'Gz57':[0],'Ax58':[0],'Ay58':[0],'Az58':[0],'Gx58':[0],'Gy58':[0],'Gz58':[0],'Ax59':[0],'Ay59':[0],'Az59':[0],'Gx59':[0],'Gy59':[0],'Gz59':[0],'Ax60':[0],'Ay60':[0],'Az60':[0],'Gx60':[0],'Gy60':[0],'Gz60':[0],'Ax61':[0],'Ay61':[0],'Az61':[0],'Gx61':[0],'Gy61':[0],'Gz61':[0],'Ax62':[0],'Ay62':[0],'Az62':[0],'Gx62':[0],'Gy62':[0],'Gz62':[0],'Ax63':[0],'Ay63':[0],'Az63':[0],'Gx63':[0],'Gy63':[0],'Gz63':[0],'Ax64':[0],'Ay64':[0],'Az64':[0],'Gx64':[0],'Gy64':[0],'Gz64':[0],'Ax65':[0],'Ay65':[0],'Az65':[0],'Gx65':[0],'Gy65':[0],'Gz65':[0],'Ax66':[0],'Ay66':[0],'Az66':[0],'Gx66':[0],'Gy66':[0],'Gz66':[0],'Ax67':[0],'Ay67':[0],'Az67':[0],'Gx67':[0],'Gy67':[0],'Gz67':[0],'Ax68':[0],'Ay68':[0],'Az68':[0],'Gx68':[0],'Gy68':[0],'Gz68':[0],'Ax69':[0],'Ay69':[0],'Az69':[0],'Gx69':[0],'Gy69':[0],'Gz69':[0],'Ax70':[0],'Ay70':[0],'Az70':[0],'Gx70':[0],'Gy70':[0],'Gz70':[0],'Ax71':[0],'Ay71':[0],'Az71':[0],'Gx71':[0],'Gy71':[0],'Gz71':[0],'Ax72':[0],'Ay72':[0],'Az72':[0],'Gx72':[0],'Gy72':[0],'Gz72':[0],'Ax73':[0],'Ay73':[0],'Az73':[0],'Gx73':[0],'Gy73':[0],'Gz73':[0],'Ax74':[0],'Ay74':[0],'Az74':[0],'Gx74':[0],'Gy74':[0],'Gz74':[0],'Ax75':[0],'Ay75':[0],'Az75':[0],'Gx75':[0],'Gy75':[0],'Gz75':[0],'Ax76':[0],'Ay76':[0],'Az76':[0],'Gx76':[0],'Gy76':[0],'Gz76':[0],'Ax77':[0],'Ay77':[0],'Az77':[0],'Gx77':[0],'Gy77':[0],'Gz77':[0],'Ax78':[0],'Ay78':[0],'Az78':[0],'Gx78':[0],'Gy78':[0],'Gz78':[0],'Ax79':[0],'Ay79':[0],'Az79':[0],'Gx79':[0],'Gy79':[0],'Gz79':[0],'Ax80':[0],'Ay80':[0],'Az80':[0],'Gx80':[0],'Gy80':[0],'Gz80':[0],'Ax81':[0],'Ay81':[0],'Az81':[0],'Gx81':[0],'Gy81':[0],'Gz81':[0],'Ax82':[0],'Ay82':[0],'Az82':[0],'Gx82':[0],'Gy82':[0],'Gz82':[0],'Ax83':[0],'Ay83':[0],'Az83':[0],'Gx83':[0],'Gy83':[0],'Gz83':[0],'Ax84':[0],'Ay84':[0],'Az84':[0],'Gx84':[0],'Gy84':[0],'Gz84':[0],'Ax85':[0],'Ay85':[0],'Az85':[0],'Gx85':[0],'Gy85':[0],'Gz85':[0],'Ax86':[0],'Ay86':[0],'Az86':[0],'Gx86':[0],'Gy86':[0],'Gz86':[0],'Ax87':[0],'Ay87':[0],'Az87':[0],'Gx87':[0],'Gy87':[0],'Gz87':[0],'Ax88':[0],'Ay88':[0],'Az88':[0],'Gx88':[0],'Gy88':[0],'Gz88':[0],'Ax89':[0],'Ay89':[0],'Az89':[0],'Gx89':[0],'Gy89':[0],'Gz89':[0],'Ax90':[0],'Ay90':[0],'Az90':[0],'Gx90':[0],'Gy90':[0],'Gz90':[0],'Ax91':[0],'Ay91':[0],'Az91':[0],'Gx91':[0],'Gy91':[0],'Gz91':[0],'Ax92':[0],'Ay92':[0],'Az92':[0],'Gx92':[0],'Gy92':[0],'Gz92':[0],'Ax93':[0],'Ay93':[0],'Az93':[0],'Gx93':[0],'Gy93':[0],'Gz93':[0],'Ax94':[0],'Ay94':[0],'Az94':[0],'Gx94':[0],'Gy94':[0],'Gz94':[0],'Ax95':[0],'Ay95':[0],'Az95':[0],'Gx95':[0],'Gy95':[0],'Gz95':[0],'Ax96':[0],'Ay96':[0],'Az96':[0],'Gx96':[0],'Gy96':[0],'Gz96':[0],'Ax97':[0],'Ay97':[0],'Az97':[0],'Gx97':[0],'Gy97':[0],'Gz97':[0],'Ax98':[0],'Ay98':[0],'Az98':[0],'Gx98':[0],'Gy98':[0],'Gz98':[0],'Ax99':[0],'Ay99':[0],'Az99':[0],'Gx99':[0],'Gy99':[0],'Gz99':[0],'Ax100':[0],'Ay100':[0],'Az100':[0],'Gx100':[0],'Gy100':[0],'Gz100':[0],'Ax101':[0],'Ay101':[0],'Az101':[0],'Gx101':[0],'Gy101':[0],'Gz101':[0],'Ax102':[0],'Ay102':[0],'Az102':[0],'Gx102':[0],'Gy102':[0],'Gz102':[0],'Ax103':[0],'Ay103':[0],'Az103':[0],'Gx103':[0],'Gy103':[0],'Gz103':[0],'Ax104':[0],'Ay104':[0],'Az104':[0],'Gx104':[0],'Gy104':[0],'Gz104':[0],'Ax105':[0],'Ay105':[0],'Az105':[0],'Gx105':[0],'Gy105':[0],'Gz105':[0],'Ax106':[0],'Ay106':[0],'Az106':[0],'Gx106':[0],'Gy106':[0],'Gz106':[0],'Ax107':[0],'Ay107':[0],'Az107':[0],'Gx107':[0],'Gy107':[0],'Gz107':[0],'Ax108':[0],'Ay108':[0],'Az108':[0],'Gx108':[0],'Gy108':[0],'Gz108':[0],'Ax109':[0],'Ay109':[0],'Az109':[0],'Gx109':[0],'Gy109':[0],'Gz109':[0],'Ax110':[0],'Ay110':[0],'Az110':[0],'Gx110':[0],'Gy110':[0],'Gz110':[0],'Ax111':[0],'Ay111':[0],'Az111':[0],'Gx111':[0],'Gy111':[0],'Gz111':[0],'Ax112':[0],'Ay112':[0],'Az112':[0],'Gx112':[0],'Gy112':[0],'Gz112':[0],'Ax113':[0],'Ay113':[0],'Az113':[0],'Gx113':[0],'Gy113':[0],'Gz113':[0],'Ax114':[0],'Ay114':[0],'Az114':[0],'Gx114':[0],'Gy114':[0],'Gz114':[0],'Ax115':[0],'Ay115':[0],'Az115':[0],'Gx115':[0],'Gy115':[0],'Gz115':[0],'Ax116':[0],'Ay116':[0],'Az116':[0],'Gx116':[0],'Gy116':[0],'Gz116':[0],'Ax117':[0],'Ay117':[0],'Az117':[0],'Gx117':[0],'Gy117':[0],'Gz117':[0],'Ax118':[0],'Ay118':[0],'Az118':[0],'Gx118':[0],'Gy118':[0],'Gz118':[0],'Ax119':[0],'Ay119':[0],'Az119':[0],'Gx119':[0],'Gy119':[0],'Gz119':[0],'Ax120':[0],'Ay120':[0],'Az120':[0],'Gx120':[0],'Gy120':[0],'Gz120':[0],'Ax121':[0],'Ay121':[0],'Az121':[0],'Gx121':[0],'Gy121':[0],'Gz121':[0],'Ax122':[0],'Ay122':[0],'Az122':[0],'Gx122':[0],'Gy122':[0],'Gz122':[0],'Ax123':[0],'Ay123':[0],'Az123':[0],'Gx123':[0],'Gy123':[0],'Gz123':[0],'Ax124':[0],'Ay124':[0],'Az124':[0],'Gx124':[0],'Gy124':[0],'Gz124':[0],'Ax125':[0],'Ay125':[0],'Az125':[0],'Gx125':[0],'Gy125':[0],'Gz125':[0],'Ax126':[0],'Ay126':[0],'Az126':[0],'Gx126':[0],'Gy126':[0],'Gz126':[0],'Ax127':[0],'Ay127':[0],'Az127':[0],'Gx127':[0],'Gy127':[0],'Gz127':[0],'Ax128':[0],'Ay128':[0],'Az128':[0],'Gx128':[0],'Gy128':[0],'Gz128':[0],'Ax129':[0],'Ay129':[0],'Az129':[0],'Gx129':[0],'Gy129':[0],'Gz129':[0],'Ax130':[0],'Ay230':[0],'Az130':[0],'Gx130':[0],'Gy130':[0],'Gz130':[0],'Ax131':[0],'Ay131':[0],'Az131':[0],'Gx131':[0],'Gy131':[0],'Gz131':[0],'Ax132':[0],'Ay132':[0],'Az132':[0],'Gx132':[0],'Gy132':[0],'Gz132':[0],'Ax133':[0],'Ay133':[0],'Az133':[0],'Gx133':[0],'Gy133':[0],'Gz133':[0],'Ax134':[0],'Ay134':[0],'Az134':[0],'Gx134':[0],'Gy134':[0],'Gz134':[0],'Ax135':[0],'Ay135':[0],'Az135':[0],'Gx135':[0],'Gy135':[0],'Gz135':[0],'Ax136':[0],'Ay136':[0],'Az136':[0],'Gx136':[0],'Gy136':[0],'Gz136':[0],'Ax137':[0],'Ay137':[0],'Az137':[0],'Gx137':[0],'Gy137':[0],'Gz137':[0],'Ax138':[0],'Ay138':[0],'Az138':[0],'Gx138':[0],'Gy138':[0],'Gz138':[0],'Ax139':[0],'Ay139':[0],'Az139':[0],'Gx139':[0],'Gy139':[0],'Gz139':[0],'Ax140':[0],'Ay140':[0],'Ax141':[0],'Ay141':[0],'Az141':[0],'Gx141':[0],'Gy141':[0],'Gz141':[0],'Ax142':[0],'Ay142':[0],'Az142':[0],'Gx142':[0],'Gy142':[0],'Gz142':[0],'Ax143':[0],'Ay143':[0],'Az143':[0],'Gx143':[0],'Gy143':[0],'Gz143':[0],'Ax144':[0],'Ay144':[0],'Az144':[0],'Gx144':[0],'Gy144':[0],'Gz144':[0],'Ax145':[0],'Ay145':[0],'Az145':[0],'Gx145':[0],'Gy145':[0],'Gz145':[0],'Ax146':[0],'Ay146':[0],'Az146':[0],'Gx146':[0],'Gy146':[0],'Gz146':[0],'Ax147':[0],'Ay147':[0],'Az147':[0],'Gx147':[0],'Gy147':[0],'Gz147':[0],'Ax148':[0],'Ay148':[0],'Az148':[0],'Gx148':[0],'Gy148':[0],'Gz148':[0],'Ax149':[0],'Ay149':[0],'Az149':[0],'Gx149':[0],'Gy149':[0],'Gz149':[0],'Ax150':[0],'Ay150':[0],'Az150':[0],'Gx150':[0],'Gy150':[0],'Gz150':[0],'Ax151':[0],'Ay151':[0],'Az151':[0],'Gx151':[0],'Gy151':[0],'Gz151':[0],'Ax152':[0],'Ay152':[0],'Az152':[0],'Gx152':[0],'Gy152':[0],'Gz152':[0],'Ax153':[0],'Ay153':[0],'Az153':[0],'Gx153':[0],'Gy153':[0],'Gz153':[0],'Ax154':[0],'Ay154':[0],'Az154':[0],'Gx154':[0],'Gy154':[0],'Gz154':[0],'Ax155':[0],'Ay155':[0],'Az155':[0],'Gx155':[0],'Gy155':[0],'Gz155':[0],'Ax156':[0],'Ay156':[0],'Az156':[0],'Gx156':[0],'Gy156':[0],'Gz156':[0],'Ax157':[0],'Ay157':[0],'Az157':[0],'Gx157':[0],'Gy157':[0],'Gz157':[0],'Ax158':[0],'Ay158':[0],'Az158':[0],'Gx158':[0],'Gy158':[0],'Gz158':[0],'Ax159':[0],'Ay159':[0],'Az159':[0],'Gx159':[0],'Gy159':[0],'Gz159':[0],'Ax160':[0],'Ay160':[0],'Az160':[0],'Gx160':[0],'Gy160':[0],'Gz160':[0],'Ax161':[0],'Ay161':[0],'Az161':[0],'Gx161':[0],'Gy161':[0],'Gz161':[0],'Ax162':[0],'Ay162':[0],'Az162':[0],'Gx162':[0],'Gy162':[0],'Gz162':[0],'Ax163':[0],'Ay163':[0],'Az163':[0],'Gx163':[0],'Gy163':[0],'Gz163':[0],'Ax164':[0],'Ay164':[0],'Az164':[0],'Gx164':[0],'Gy164':[0],'Gz164':[0],'Ax165':[0],'Ay165':[0],'Az165':[0],'Gx165':[0],'Gy165':[0],'Gz165':[0],'Ax166':[0],'Ay166':[0],'Az166':[0],'Gx166':[0],'Gy166':[0],'Gz166':[0],'Ax167':[0],'Ay167':[0],'Az167':[0],'Gx167':[0],'Gy167':[0],'Gz167':[0],'Ax168':[0],'Ay168':[0],'Az168':[0],'Gx168':[0],'Gy168':[0],'Gz168':[0],'Ax169':[0],'Ay169':[0],'Az169':[0],'Gx169':[0],'Gy169':[0],'Gz169':[0],'Ax170':[0],'Ay170':[0],'Az170':[0],'Gx170':[0],'Gy170':[0],'Gz170':[0],'Ax171':[0],'Ay171':[0],'Az171':[0],'Gx171':[0],'Gy171':[0],'Gz171':[0],'Ax172':[0],'Ay172':[0],'Az172':[0],'Gx172':[0],'Gy172':[0],'Gz172':[0],'Ax173':[0],'Ay173':[0],'Az173':[0],'Gx173':[0],'Gy173':[0],'Gz173':[0],'Ax174':[0],'Ay174':[0],'Az174':[0],'Gx174':[0],'Gy174':[0],'Gz174':[0],'Ax175':[0],'Ay175':[0],'Az175':[0],'Gx175':[0],'Gy175':[0],'Gz175':[0],'Ax176':[0],'Ay176':[0],'Az176':[0],'Gx176':[0],'Gy176':[0],'Gz176':[0],'Ax177':[0],'Ay177':[0],'Az177':[0],'Gx177':[0],'Gy177':[0],'Gz177':[0],'Ax178':[0],'Ay178':[0],'Az178':[0],'Gx178':[0],'Gy178':[0],'Gz178':[0],'Ax179':[0],'Ay179':[0],'Az179':[0],'Gx179':[0],'Gy179':[0],'Gz179':[0],'Ax180':[0],'Ay180':[0],'Az180':[0],'Gx180':[0],'Gy180':[0],'Gz180':[0],'Ax181':[0],'Ay181':[0],'Az181':[0],'Gx181':[0],'Gy181':[0],'Gz181':[0],'Ax182':[0],'Ay182':[0],'Az182':[0],'Gx182':[0],'Gy182':[0],'Gz182':[0],'Ax183':[0],'Ay183':[0],'Az183':[0],'Gx183':[0],'Gy183':[0],'Gz183':[0],'Ax184':[0],'Ay184':[0],'Az184':[0],'Gx184':[0],'Gy184':[0],'Gz184':[0],'Ax185':[0],'Ay185':[0],'Az185':[0],'Gx185':[0],'Gy185':[0],'Gz185':[0],'Ax186':[0],'Ay186':[0],'Az186':[0],'Gx186':[0],'Gy186':[0],'Gz186':[0],'Ax187':[0],'Ay187':[0],'Az187':[0],'Gx187':[0],'Gy187':[0],'Gz187':[0],'Ax188':[0],'Ay188':[0],'Az188':[0],'Gx188':[0],'Gy188':[0],'Gz188':[0],'Ax189':[0],'Ay189':[0],'Az189':[0],'Gx189':[0],'Gy189':[0],'Gz189':[0],'Ax190':[0],'Ay190':[0],'Az190':[0],'Gx190':[0],'Gy190':[0],'Gz190':[0],'Ax191':[0],'Ay191':[0],'Az191':[0],'Gx191':[0],'Gy191':[0],'Gz191':[0],'Ax192':[0],'Ay192':[0],'Az192':[0],'Gx192':[0],'Gy192':[0],'Gz192':[0],'Ax193':[0],'Ay193':[0],'Az193':[0],'Gx193':[0],'Gy193':[0],'Gz193':[0],'Ax194':[0],'Ay194':[0],'Az194':[0],'Gx194':[0],'Gy194':[0],'Gz194':[0],'Ax195':[0],'Ay195':[0],'Az195':[0],'Gx195':[0],'Gy195':[0],'Gz195':[0],'Ax196':[0],'Ay196':[0],'Az196':[0],'Gx196':[0],'Gy196':[0],'Gz196':[0],'Ax197':[0],'Ay197':[0],'Az197':[0],'Gx197':[0],'Gy197':[0],'Gz197':[0],'Ax198':[0],'Ay198':[0],'Az198':[0],'Gx198':[0],'Gy198':[0],'Gz198':[0],'Ax199':[0],'Ay199':[0],'Az199':[0],'Gx199':[0],'Gy199':[0],'Gz199':[0],'Ax200':[0],'Ay200':[0],'Az200':[0],'Gx200':[0],'Gy200':[0],'Gz200':[0],'Ax201':[0],'Ay201':[0],'Az201':[0],'Gx201':[0],'Gy201':[0],'Gz201':[0],'Ax202':[0],'Ay102':[0],'Az202':[0],'Gx202':[0],'Gy202':[0],'Gz202':[0],'Ax203':[0],'Ay203':[0],'Az203':[0],'Gx203':[0],'Gy203':[0],'Gz203':[0],'Ax204':[0],'Ay204':[0],'Az204':[0],'Gx204':[0],'Gy204':[0],'Gz204':[0],'Ax205':[0],'Ay205':[0],'Az205':[0],'Gx205':[0],'Gy205':[0],'Gz205':[0],'Ax206':[0],'Ay206':[0],'Az206':[0],'Gx206':[0],'Gy206':[0],'Gz206':[0],'Ax207':[0],'Ay207':[0],'Az207':[0],'Gx207':[0],'Gy207':[0],'Gz207':[0],'Ax208':[0],'Ay208':[0],'Az208':[0],'Gx208':[0],'Gy208':[0],'Gz208':[0],'Ax209':[0],'Ay209':[0],'Az209':[0],'Gx209':[0],'Gy209':[0],'Gz209':[0],'Ax210':[0],'Ay210':[0],'Az210':[0],'Gx210':[0],'Gy210':[0],'Gz210':[0],'Ax211':[0],'Ay211':[0],'Az211':[0],'Gx211':[0],'Gy211':[0],'Gz211':[0],'Ax212':[0],'Ay212':[0],'Az212':[0],'Gx212':[0],'Gy212':[0],'Gz212':[0],'Ax213':[0],'Ay213':[0],'Az213':[0],'Gx213':[0],'Gy213':[0],'Gz213':[0],'Ax214':[0],'Ay214':[0],'Az214':[0],'Gx214':[0],'Gy214':[0],'Gz214':[0],'Ax215':[0],'Ay215':[0],'Az215':[0],'Gx215':[0],'Gy215':[0],'Gz215':[0],'Ax216':[0],'Ay216':[0],'Az216':[0],'Gx216':[0],'Gy216':[0],'Gz216':[0],'Ax217':[0],'Ay217':[0],'Az217':[0],'Gx217':[0],'Gy217':[0],'Gz217':[0],'Ax218':[0],'Ay218':[0],'Az218':[0],'Gx218':[0],'Gy218':[0],'Gz218':[0],'Ax219':[0],'Ay219':[0],'Az219':[0],'Gx219':[0],'Gy219':[0],'Gz219':[0],'Ax220':[0],'Ay220':[0],'Az220':[0],'Gx220':[0],'Gy220':[0],'Gz220':[0],'Ax221':[0],'Ay221':[0],'Az221':[0],'Gx221':[0],'Gy221':[0],'Gz221':[0],'Ax222':[0],'Ay222':[0],'Az222':[0],'Gx222':[0],'Gy222':[0],'Gz222':[0],'Ax223':[0],'Ay223':[0],'Az223':[0],'Gx223':[0],'Gy223':[0],'Gz223':[0],'Ax224':[0],'Ay224':[0],'Az224':[0],'Gx224':[0],'Gy224':[0],'Gz224':[0],'Ax225':[0],'Ay225':[0],'Az225':[0],'Gx225':[0],'Gy225':[0],'Gz225':[0],'Ax226':[0],'Ay226':[0],'Az226':[0],'Gx226':[0],'Gy226':[0],'Gz226':[0],'Ax227':[0],'Ay227':[0],'Az227':[0],'Gx227':[0],'Gy227':[0],'Gz227':[0],'Ax228':[0],'Ay228':[0],'Az228':[0],'Gx228':[0],'Gy228':[0],'Gz228':[0],'Ax229':[0],'Ay229':[0],'Az229':[0],'Gx229':[0],'Gy229':[0],'Gz229':[0],'Ax230':[0],'Ay230':[0],'Az230':[0],'Gx230':[0],'Gy230':[0],'Gz230':[0],'Ax231':[0],'Ay231':[0],'Az231':[0],'Gx231':[0],'Gy231':[0],'Gz231':[0],'Ax232':[0],'Ay232':[0],'Az232':[0],'Gx232':[0],'Gy232':[0],'Gz232':[0],'Ax233':[0],'Ay233':[0],'Az233':[0],'Gx233':[0],'Gy233':[0],'Gz233':[0],'Ax234':[0],'Ay234':[0],'Az234':[0],'Gx234':[0],'Gy234':[0],'Gz234':[0],'Ax235':[0],'Ay235':[0],'Az235':[0],'Gx235':[0],'Gy23':[0],'Gz235':[0],'Ax236':[0],'Ay236':[0],'Az236':[0],'Gx236':[0],'Gy236':[0],'Gz236':[0],'Ax237':[0],'Ay237':[0],'Az237':[0],'Gx237':[0],'Gy237':[0],'Gz237':[0],'Ax238':[0],'Ay238':[0],'Az238':[0],'Gx238':[0],'Gy238':[0],'Gz238':[0],'Ax239':[0],'Ay239':[0],'Az239':[0],'Gx239':[0],'Gy239':[0],'Gz239':[0],'Ax240':[0],'Ay240':[0],'Az240':[0],'Gx240':[0],'Gy240':[0],'Gz240':[0]}\n",
        "row_df = pd.DataFrame.from_dict(row)\n",
        "# print(row_df)\n",
        "data = pd.read_csv('/content/drive/MyDrive/Colab Notebooks/Output/data/test1.csv')\n",
        "while len(data.columns) < 1436:  \n",
        "      data = pd.concat([data, row_df],ignore_index=True)      \n",
        "      # Create the dataframe\n",
        "      df = pd.DataFrame(data)\n",
        "        \n",
        "      # Apply the function\n",
        "      df = df.fillna(0)      \n",
        "      # print the DataFrame\n",
        "      # df\n",
        "      print(df)"
      ]
    },
    {
      "cell_type": "markdown",
      "metadata": {
        "id": "_BEPTEXZfrIT"
      },
      "source": [
        "## Add Zero's"
      ]
    },
    {
      "cell_type": "code",
      "execution_count": null,
      "metadata": {
        "id": "JBY-lH7gdDxL"
      },
      "outputs": [],
      "source": [
        "df=pd.read_csv('/content/drive/MyDrive/Colab Notebooks/Output/data/test1.csv')\n",
        "res = df.fillna(0)\n",
        "# print(res)"
      ]
    },
    {
      "cell_type": "markdown",
      "metadata": {
        "id": "c5Cwfmt2fuXe"
      },
      "source": [
        "## Save Result in CSV file"
      ]
    },
    {
      "cell_type": "code",
      "execution_count": null,
      "metadata": {
        "id": "vJQx_PtKd1De"
      },
      "outputs": [],
      "source": [
        "def saveResultToCsv():\n",
        "  res.to_csv('/content/drive/MyDrive/Colab Notebooks/Output/data/zero_data1.csv', index=False)\n",
        "  df = pd.read_csv('/content/drive/MyDrive/Colab Notebooks/Output/data/zero_data1.csv')\n",
        "  # print(df.to_string())\n",
        "  # df.head(130)\n",
        "  # df"
      ]
    },
    {
      "cell_type": "code",
      "execution_count": null,
      "metadata": {
        "id": "iGWxDZwXdcx4"
      },
      "outputs": [],
      "source": [
        "def prepareData():\n",
        "  df = pd.read_csv('/content/drive/MyDrive/Colab Notebooks/Output/data/zero_data1.csv')\n",
        "\n",
        "  my_list = []\n",
        "  list_row =[]\n",
        "  fileData=[]\n",
        "  Ax=[]\n",
        "  Ay=[]\n",
        "  Az=[]\n",
        "  Gx=[]\n",
        "  Gy=[]\n",
        "  Gz=[]\n",
        "  for j in (range((df.shape[0]))): \n",
        "        Ax.append(df.iloc[j,0::6])\n",
        "        Ay.append(df.iloc[j,1::6])\n",
        "        Az.append(df.iloc[j,2::6])\n",
        "        Gx.append(df.iloc[j,3::6])\n",
        "        Gy.append(df.iloc[j,4::6])\n",
        "        Gz.append(df.iloc[j,5::6])\n",
        "    \n",
        "  features=[Ax,Ay,Az,Gx,Gy,Gz]\n",
        "  featuresStr=['Ax','Ay','Az','Gx','Gy','Gz']\n",
        "\n",
        "  for j in range(len(features)):\n",
        "    col=[]\n",
        "    for i in range(1,240):\n",
        "      col.append(featuresStr[j]+str(i))\n",
        "    df = pd.DataFrame (features[j], columns =col)\n",
        "    df.to_csv('/content/drive/MyDrive/Colab Notebooks/AppModel/'+featuresStr[j]+'.csv',index=False)\n",
        "    \n",
        "\n",
        "    df = pd.read_csv('/content/drive/MyDrive/Colab Notebooks/AppModel/'+featuresStr[j]+'.csv')\n"
      ]
    },
    {
      "cell_type": "markdown",
      "metadata": {
        "id": "xYyer9KZ3Vjn"
      },
      "source": [
        "**Mean feature**"
      ]
    },
    {
      "cell_type": "code",
      "execution_count": null,
      "metadata": {
        "id": "ubHTCv0-QgwF"
      },
      "outputs": [],
      "source": [
        "def calMean():\n",
        "  df = pd.read_csv('/content/drive/MyDrive/Colab Notebooks/AppModel/Ax.csv')\n",
        "  # df\n",
        "  meanAx=[]\n",
        "  for i in range(df.shape[0]):\n",
        "    meanAx.append(df.iloc[i].mean())\n",
        "  print(meanAx)\n",
        "\n",
        "  df = pd.read_csv('/content/drive/MyDrive/Colab Notebooks/AppModel/Ay.csv')\n",
        "  # df\n",
        "  meanAy=[]\n",
        "  for i in range(df.shape[0]):\n",
        "    meanAy.append(df.iloc[i].mean())\n",
        "  print(meanAy)\n",
        "\n",
        "  df = pd.read_csv('/content/drive/MyDrive/Colab Notebooks/AppModel/Az.csv')\n",
        "  # df\n",
        "  meanAz=[]\n",
        "  for i in range(df.shape[0]):\n",
        "    meanAz.append(df.iloc[i].mean())\n",
        "  print(meanAz)  \n",
        "\n",
        "  df = pd.read_csv('/content/drive/MyDrive/Colab Notebooks/AppModel/Gx.csv')\n",
        "  # df\n",
        "  meanGx=[]\n",
        "  for i in range(df.shape[0]):\n",
        "    meanGx.append(df.iloc[i].mean())\n",
        "  print(meanGx) \n",
        "\n",
        "  df = pd.read_csv('/content/drive/MyDrive/Colab Notebooks/AppModel/Gy.csv')\n",
        "  # df\n",
        "  meanGy=[]\n",
        "  for i in range(df.shape[0]):\n",
        "    meanGy.append(df.iloc[i].mean())\n",
        "  print(meanGy)  \n",
        "\n",
        "  df = pd.read_csv('/content/drive/MyDrive/Colab Notebooks/AppModel/Gz.csv')\n",
        "  # df\n",
        "  meanGz=[]\n",
        "  for i in range(df.shape[0]):\n",
        "    meanGz.append(df.iloc[i].mean())\n",
        "  print(meanGz)  \n",
        "\n",
        "\n",
        "\n"
      ]
    },
    {
      "cell_type": "markdown",
      "metadata": {
        "id": "kN7LoTsc3jlH"
      },
      "source": [
        "**Skewness feature**"
      ]
    },
    {
      "cell_type": "code",
      "execution_count": null,
      "metadata": {
        "id": "ujaTuQNoM-6S"
      },
      "outputs": [],
      "source": [
        "def calSkewness():  \n",
        "  df = pd.read_csv('/content/drive/MyDrive/Colab Notebooks/AppModel/Ax.csv')\n",
        "  # df\n",
        "  skewnessAx=[]\n",
        "  for i in range(df.shape[0]):\n",
        "    skewnessAx.append(df.iloc[i].skew(axis = 0, skipna = True))\n",
        "  print(skewnessAx)\n",
        "\n",
        "  df = pd.read_csv('/content/drive/MyDrive/Colab Notebooks/AppModel/Ay.csv')\n",
        "  # df\n",
        "  skewnessAy=[]\n",
        "  for i in range(df.shape[0]):\n",
        "    skewnessAy.append(df.iloc[i].skew(axis = 0, skipna = True))\n",
        "  print(skewnessAy)\n",
        "\n",
        "  df = pd.read_csv('/content/drive/MyDrive/Colab Notebooks/AppModel/Az.csv')\n",
        "  # df\n",
        "  skewnessAz=[]\n",
        "  for i in range(df.shape[0]):\n",
        "    skewnessAz.append(df.iloc[i].skew(axis = 0, skipna = True))\n",
        "  print(skewnessAz)\n",
        "\n",
        "  df = pd.read_csv('/content/drive/MyDrive/Colab Notebooks/AppModel/Gx.csv')\n",
        "  # df\n",
        "  skewnessGx=[]\n",
        "  for i in range(df.shape[0]):\n",
        "    skewnessGx.append(df.iloc[i].skew(axis = 0, skipna = True))\n",
        "  print(skewnessGx)\n",
        "\n",
        "  df = pd.read_csv('/content/drive/MyDrive/Colab Notebooks/AppModel/Gy.csv')\n",
        "  # df\n",
        "  skewnessGy=[]\n",
        "  for i in range(df.shape[0]):\n",
        "    skewnessGy.append(df.iloc[i].skew(axis = 0, skipna = True))\n",
        "  print(skewnessGy)\n",
        "\n",
        "  df = pd.read_csv('/content/drive/MyDrive/Colab Notebooks/AppModel/Gz.csv')\n",
        "  # df\n",
        "  skewnessGz=[]\n",
        "  for i in range(df.shape[0]):\n",
        "    skewnessGz.append(df.iloc[i].skew(axis = 0, skipna = True))\n",
        "  print(skewnessGz)\n",
        "\n",
        "\n"
      ]
    },
    {
      "cell_type": "markdown",
      "metadata": {
        "id": "VS0IJVcOTjjX"
      },
      "source": [
        "**The Entropy**"
      ]
    },
    {
      "cell_type": "code",
      "execution_count": null,
      "metadata": {
        "id": "eaUr0PDvIL0c"
      },
      "outputs": [],
      "source": [
        "def calEntropy():  \n",
        "  df = pd.read_csv('/content/drive/MyDrive/Colab Notebooks/AppModel/Ax.csv')\n",
        "  # df\n",
        "  entropyAx=[]\n",
        "  for i in range(df.shape[0]):\n",
        "    entropyAx.append(stats.entropy(list(Counter(df.iloc[i]).values()), base=2))\n",
        "  print(entropyAx)\n",
        "\n",
        "  df = pd.read_csv('/content/drive/MyDrive/Colab Notebooks/AppModel/Ay.csv')\n",
        "  # df\n",
        "  entropyAy=[]\n",
        "  for i in range(df.shape[0]):\n",
        "    entropyAy.append(stats.entropy(list(Counter(df.iloc[i]).values()), base=2))\n",
        "  print(entropyAy)\n",
        "\n",
        "  df = pd.read_csv('/content/drive/MyDrive/Colab Notebooks/AppModel/Az.csv')\n",
        "  # df\n",
        "  entropyAz=[]\n",
        "  for i in range(df.shape[0]):\n",
        "    entropyAz.append(stats.entropy(list(Counter(df.iloc[i]).values()), base=2))\n",
        "  print(entropyAz)\n",
        "\n",
        "  df = pd.read_csv('/content/drive/MyDrive/Colab Notebooks/AppModel/Gx.csv')\n",
        "  # df\n",
        "  entropyGx=[]\n",
        "  for i in range(df.shape[0]):\n",
        "    entropyGx.append(stats.entropy(list(Counter(df.iloc[i]).values()), base=2))\n",
        "  print(entropyGx)\n",
        "\n",
        "  df = pd.read_csv('/content/drive/MyDrive/Colab Notebooks/AppModel/Gy.csv')\n",
        "  # df\n",
        "  entropyGy=[]\n",
        "  for i in range(df.shape[0]):\n",
        "    entropyGy.append(stats.entropy(list(Counter(df.iloc[i]).values()), base=2))\n",
        "  print(entropyGy)\n",
        "\n",
        "  df = pd.read_csv('/content/drive/MyDrive/Colab Notebooks/AppModel/Gz.csv')\n",
        "  # df\n",
        "  entropyGz=[]\n",
        "  for i in range(df.shape[0]):\n",
        "    entropyGz.append(stats.entropy(list(Counter(df.iloc[i]).values()), base=2))\n",
        "  print(entropyGz)\n",
        "\n"
      ]
    },
    {
      "cell_type": "markdown",
      "metadata": {
        "id": "a70jlw3H4yOA"
      },
      "source": [
        "**Kurtosis Feature**"
      ]
    },
    {
      "cell_type": "code",
      "execution_count": null,
      "metadata": {
        "id": "fK8HMKdSFXTR"
      },
      "outputs": [],
      "source": [
        "def calKurtosis():  \n",
        "  df = pd.read_csv('/content/drive/MyDrive/Colab Notebooks/AppModel/Ax.csv')\n",
        "  # df\n",
        "  kurtosisAx=[]\n",
        "  for i in range(df.shape[0]):\n",
        "    kurtosisAx.append(df.iloc[i].kurtosis(axis=0))\n",
        "  print(kurtosisAx)\n",
        "\n",
        "  df = pd.read_csv('/content/drive/MyDrive/Colab Notebooks/AppModel/Ay.csv')\n",
        "  # df\n",
        "  kurtosisAy=[]\n",
        "  for i in range(df.shape[0]):\n",
        "    kurtosisAy.append(df.iloc[i].kurtosis(axis=0))\n",
        "  print(kurtosisAy)\n",
        "\n",
        "  df = pd.read_csv('/content/drive/MyDrive/Colab Notebooks/AppModel/Az.csv')\n",
        "  # df\n",
        "  kurtosisAz=[]\n",
        "  for i in range(df.shape[0]):\n",
        "    kurtosisAz.append(df.iloc[i].kurtosis(axis=0))\n",
        "  print(kurtosisAz)\n",
        "\n",
        "  df = pd.read_csv('/content/drive/MyDrive/Colab Notebooks/AppModel/Gx.csv')\n",
        "  # df\n",
        "  kurtosisGx=[]\n",
        "  for i in range(df.shape[0]):\n",
        "    kurtosisGx.append(df.iloc[i].kurtosis(axis=0))\n",
        "  print(kurtosisGx)\n",
        "\n",
        "  df = pd.read_csv('/content/drive/MyDrive/Colab Notebooks/AppModel/Gy.csv')\n",
        "  # df\n",
        "  kurtosisGy=[]\n",
        "  for i in range(df.shape[0]):\n",
        "    kurtosisGy.append(df.iloc[i].kurtosis(axis=0))\n",
        "  print(kurtosisGy)\n",
        "\n",
        "  df = pd.read_csv('/content/drive/MyDrive/Colab Notebooks/AppModel/Gz.csv')\n",
        "  # df\n",
        "  kurtosisGz=[]\n",
        "  for i in range(df.shape[0]):\n",
        "    kurtosisGz.append(df.iloc[i].kurtosis(axis=0))\n",
        "  print(kurtosisGz)"
      ]
    },
    {
      "cell_type": "markdown",
      "metadata": {
        "id": "DiEiF-KI44_U"
      },
      "source": [
        "**sRMS Feature**"
      ]
    },
    {
      "cell_type": "code",
      "execution_count": null,
      "metadata": {
        "id": "Sn01IcKhXjvl"
      },
      "outputs": [],
      "source": [
        "def calSRMS():  \n",
        "  df = pd.read_csv('/content/drive/MyDrive/Colab Notebooks/AppModel/Ax.csv')\n",
        "  # df\n",
        "  sRMSAx=[]\n",
        "  for i in range(df.shape[0]):\n",
        "    sRMSAx.append((sum(df.iloc[i]**2)/df.shape[1])**(1/2))\n",
        "  print(sRMSAx)\n",
        "\n",
        "  df = pd.read_csv('/content/drive/MyDrive/Colab Notebooks/AppModel/Ay.csv')\n",
        "  # df\n",
        "  sRMSAy=[]\n",
        "  for i in range(df.shape[0]):\n",
        "    sRMSAy.append((sum(df.iloc[i]**2)/df.shape[1])**(1/2))\n",
        "  print(sRMSAy)\n",
        "\n",
        "  df = pd.read_csv('/content/drive/MyDrive/Colab Notebooks/AppModel/Az.csv')\n",
        "  # df\n",
        "  sRMSAz=[]\n",
        "  for i in range(df.shape[0]):\n",
        "    sRMSAz.append((sum(df.iloc[i]**2)/df.shape[1])**(1/2))\n",
        "  print(sRMSAz)\n",
        "\n",
        "  df = pd.read_csv('/content/drive/MyDrive/Colab Notebooks/AppModel/Gx.csv')\n",
        "  # df\n",
        "  sRMSGx=[]\n",
        "  for i in range(df.shape[0]):\n",
        "    sRMSGx.append((sum(df.iloc[i]**2)/df.shape[1])**(1/2))\n",
        "  print(sRMSGx)\n",
        "\n",
        "  df = pd.read_csv('/content/drive/MyDrive/Colab Notebooks/AppModel/Gy.csv')\n",
        "  # df\n",
        "  sRMSGy=[]\n",
        "  for i in range(df.shape[0]):\n",
        "    sRMSGy.append((sum(df.iloc[i]**2)/df.shape[1])**(1/2))\n",
        "  print(sRMSGy)\n",
        "\n",
        "  df = pd.read_csv('/content/drive/MyDrive/Colab Notebooks/AppModel/Gz.csv')\n",
        "  # df\n",
        "  sRMSGz=[]\n",
        "  for i in range(df.shape[0]):\n",
        "    sRMSGz.append((sum(df.iloc[i]**2)/df.shape[1])**(1/2))\n",
        "  print(sRMSGz)\n",
        "\n",
        "\n"
      ]
    },
    {
      "cell_type": "markdown",
      "metadata": {
        "id": "6owOF76K4F8F"
      },
      "source": [
        "\n",
        "**Deviation feature**"
      ]
    },
    {
      "cell_type": "code",
      "execution_count": null,
      "metadata": {
        "id": "GFlOGobrXdtM"
      },
      "outputs": [],
      "source": [
        "def calDeviation():  \n",
        "  df = pd.read_csv('/content/drive/MyDrive/Colab Notebooks/AppModel/Ax.csv')\n",
        "  # df\n",
        "  deviationsAx=[]\n",
        "  for i in range(df.shape[0]):\n",
        "    deviationsAx.append(numpy.std(df.iloc[i]))\n",
        "  print(deviationsAx)\n",
        "\n",
        "  df = pd.read_csv('/content/drive/MyDrive/Colab Notebooks/AppModel/Ay.csv')\n",
        "  # df\n",
        "  deviationsAy=[]\n",
        "  for i in range(df.shape[0]):\n",
        "    deviationsAy.append(numpy.std(df.iloc[i]))\n",
        "  print(deviationsAy)\n",
        "\n",
        "  df = pd.read_csv('/content/drive/MyDrive/Colab Notebooks/AppModel/Az.csv')\n",
        "  # df\n",
        "  deviationsAz=[]\n",
        "  for i in range(df.shape[0]):\n",
        "    deviationsAz.append(numpy.std(df.iloc[i]))\n",
        "  print(deviationsAz)\n",
        "\n",
        "  df = pd.read_csv('/content/drive/MyDrive/Colab Notebooks/AppModel/Gx.csv')\n",
        "  # df\n",
        "  deviationsGx=[]\n",
        "  for i in range(df.shape[0]):\n",
        "    deviationsGx.append(numpy.std(df.iloc[i]))\n",
        "  print(deviationsGx)\n",
        "\n",
        "  df = pd.read_csv('/content/drive/MyDrive/Colab Notebooks/AppModel/Gy.csv')\n",
        "  # df\n",
        "  deviationsGy=[]\n",
        "  for i in range(df.shape[0]):\n",
        "    deviationsGy.append(numpy.std(df.iloc[i]))\n",
        "  print(deviationsGy)\n",
        "\n",
        "  df = pd.read_csv('/content/drive/MyDrive/Colab Notebooks/AppModel/Gz.csv')\n",
        "  # df\n",
        "  deviationsGz=[]\n",
        "  for i in range(df.shape[0]):\n",
        "    deviationsGz.append(numpy.std(df.iloc[i]))\n",
        "  print(deviationsGz)\n",
        "\n"
      ]
    },
    {
      "cell_type": "markdown",
      "metadata": {
        "id": "HQzDjgQn4SRr"
      },
      "source": [
        "**Variance feature**"
      ]
    },
    {
      "cell_type": "code",
      "execution_count": null,
      "metadata": {
        "id": "JCJbHDryXgJM"
      },
      "outputs": [],
      "source": [
        "def calVariance():\n",
        "  # Variance\n",
        "  df = pd.read_csv('/content/drive/MyDrive/Colab Notebooks/AppModel/Ax.csv')\n",
        "  # df\n",
        "  varianceAx=[]\n",
        "  for i in range(df.shape[0]):\n",
        "    varianceAx.append(sum(deviationsAx) / df.shape[1])\n",
        "  print(varianceAx)\n",
        "\n",
        "  df = pd.read_csv('/content/drive/MyDrive/Colab Notebooks/AppModel/Ay.csv')\n",
        "  # df\n",
        "  varianceAy=[]\n",
        "  for i in range(df.shape[0]):\n",
        "    varianceAy.append(sum(deviationsAy) / df.shape[1])\n",
        "  print(varianceAy)\n",
        "\n",
        "  df = pd.read_csv('/content/drive/MyDrive/Colab Notebooks/AppModel/Az.csv')\n",
        "  # df\n",
        "  varianceAz=[]\n",
        "  for i in range(df.shape[0]):\n",
        "    varianceAz.append(sum(deviationsAz) / df.shape[1])\n",
        "  print(varianceAz)\n",
        "\n",
        "  df = pd.read_csv('/content/drive/MyDrive/Colab Notebooks/AppModel/Gx.csv')\n",
        "  # df\n",
        "  varianceGx=[]\n",
        "  for i in range(df.shape[0]):\n",
        "    varianceGx.append(sum(deviationsGx) / df.shape[1])\n",
        "  print(varianceGx)\n",
        "\n",
        "  df = pd.read_csv('/content/drive/MyDrive/Colab Notebooks/AppModel/Gy.csv')\n",
        "  # df\n",
        "  varianceGy=[]\n",
        "  for i in range(df.shape[0]):\n",
        "    varianceGy.append(sum(deviationsGy) / df.shape[1])\n",
        "  print(varianceGy)\n",
        "\n",
        "  df = pd.read_csv('/content/drive/MyDrive/Colab Notebooks/AppModel/Gz.csv')\n",
        "  # df\n",
        "  varianceGz=[]\n",
        "  for i in range(df.shape[0]):\n",
        "    varianceGz.append(sum(deviationsGz) / df.shape[1])\n",
        "  print(varianceGz)\n"
      ]
    },
    {
      "cell_type": "markdown",
      "metadata": {
        "id": "BYAwwgfEdkix"
      },
      "source": [
        "**SMA with Equation**"
      ]
    },
    {
      "cell_type": "code",
      "execution_count": null,
      "metadata": {
        "id": "HD6UtWeEQN8N"
      },
      "outputs": [],
      "source": [
        "\n",
        "# df = pd.read_csv('/content/drive/MyDrive/Colab Notebooks/AppModel/Ax.csv')\n",
        "# # df\n",
        "# # data['magnitude'] = np.sqrt(data[' Accel. X']**2+data[' Accel. Y']**2+data[' Accel. Z']**2)\n",
        "# #      SMA = data['magnitude'].sum()/len(data)\n",
        "# SMA_Ax=[]\n",
        "# for i in range(df.shape[0]):\n",
        "#   SMA_Ax.append(np.sqrt(df.iloc[i]**2).sum()/len(df))\n",
        "# print(SMA_Ax)\n",
        "\n",
        "# df = pd.read_csv('/content/drive/MyDrive/Colab Notebooks/AppModel/Ay.csv')\n",
        "# # df\n",
        "# SMA_Ay=[]\n",
        "# for i in range(df.shape[0]):\n",
        "#   SMA_Ay.append(np.sqrt(df.iloc[i]**2).sum()/len(df))\n",
        "# print(SMA_Ay)\n",
        "\n",
        "# df = pd.read_csv('/content/drive/MyDrive/Colab Notebooks/AppModel/Az.csv')\n",
        "# # df\n",
        "# SMA_Az=[]\n",
        "# for i in range(df.shape[0]):\n",
        "#   SMA_Az.append(np.sqrt(df.iloc[i]**2).sum()/len(df))\n",
        "# print(SMA_Az)\n",
        "\n",
        "# df = pd.read_csv('/content/drive/MyDrive/Colab Notebooks/AppModel/Gx.csv')\n",
        "# # df\n",
        "# SMA_Gx=[]\n",
        "# for i in range(df.shape[0]):\n",
        "#   SMA_Gx.append(np.sqrt(df.iloc[i]**2).sum()/len(df))\n",
        "# print(SMA_Gx)\n",
        "\n",
        "# df = pd.read_csv('/content/drive/MyDrive/Colab Notebooks/AppModel/Gy.csv')\n",
        "# # df\n",
        "# SMA_Gy=[]\n",
        "# for i in range(df.shape[0]):\n",
        "#   SMA_Gy.append(np.sqrt(df.iloc[i]**2).sum()/len(df))\n",
        "# print(SMA_Gy)\n",
        "\n",
        "# df = pd.read_csv('/content/drive/MyDrive/Colab Notebooks/AppModel/Gz.csv')\n",
        "# # df\n",
        "# SMA_Gz=[]\n",
        "# for i in range(df.shape[0]):\n",
        "#   SMA_Gz.append(np.sqrt(df.iloc[i]**2).sum()/len(df))\n",
        "# print(SMA_Gz)\n"
      ]
    },
    {
      "cell_type": "markdown",
      "metadata": {
        "id": "ehPdg3U8dUFW"
      },
      "source": [
        "**SMA with Absolute**"
      ]
    },
    {
      "cell_type": "code",
      "execution_count": null,
      "metadata": {
        "id": "bo1ulGE_b_dz"
      },
      "outputs": [],
      "source": [
        "def calSMA():\n",
        "  df = pd.read_csv('/content/drive/MyDrive/Colab Notebooks/AppModel/Ax.csv')\n",
        "\n",
        " \n",
        "  for i in range(df.shape[0]):\n",
        "    SMA_Ax.append(sum(np.absolute(df.iloc[i])))\n",
        "  print(SMA_Ax)\n",
        "\n",
        "  df = pd.read_csv('/content/drive/MyDrive/Colab Notebooks/AppModel/Ay.csv')\n",
        "  # df\n",
        "  SMA_Ay=[]\n",
        "  for i in range(df.shape[0]):\n",
        "    SMA_Ay.append(sum(np.absolute(df.iloc[i])))\n",
        "  print(SMA_Ay)\n",
        "\n",
        "  df = pd.read_csv('/content/drive/MyDrive/Colab Notebooks/AppModel/Az.csv')\n",
        "  # df\n",
        "  SMA_Az=[]\n",
        "  for i in range(df.shape[0]):\n",
        "    SMA_Az.append(sum(np.absolute(df.iloc[i])))\n",
        "  print(SMA_Az)\n",
        "\n",
        "  df = pd.read_csv('/content/drive/MyDrive/Colab Notebooks/AppModel/Gx.csv')\n",
        "  # df\n",
        "  SMA_Gx=[]\n",
        "  for i in range(df.shape[0]):\n",
        "    SMA_Gx.append(sum(np.absolute(df.iloc[i])))\n",
        "  print(SMA_Gx)\n",
        "\n",
        "  df = pd.read_csv('/content/drive/MyDrive/Colab Notebooks/AppModel/Gy.csv')\n",
        "  # df\n",
        "  SMA_Gy=[]\n",
        "  for i in range(df.shape[0]):\n",
        "    SMA_Gy.append(sum(np.absolute(df.iloc[i])))\n",
        "  print(SMA_Gy)\n",
        "\n",
        "  df = pd.read_csv('/content/drive/MyDrive/Colab Notebooks/AppModel/Gz.csv')\n",
        "  # df\n",
        "  SMA_Gz=[]\n",
        "  for i in range(df.shape[0]):\n",
        "    SMA_Gz.append(sum(np.absolute(df.iloc[i])))\n",
        "  print(SMA_Gz)\n"
      ]
    },
    {
      "cell_type": "code",
      "execution_count": null,
      "metadata": {
        "id": "OWYZu1hQR99j"
      },
      "outputs": [],
      "source": [
        "def preparFeatures():  \n",
        "  dfCal=pd.DataFrame()\n",
        "\n",
        "  # dfCal['exName']=exName\n",
        "\n",
        "  dfCal['meanAx']=meanAx\n",
        "  dfCal['meanAy']=meanAy\n",
        "  dfCal['meanAz']=meanAz\n",
        "  dfCal['meanGx']=meanGx\n",
        "  dfCal['meanGy']=meanGy\n",
        "  dfCal['meanGz']=meanGz\n",
        "\n",
        "  dfCal['skewnessAx']=skewnessAx\n",
        "  dfCal['skewnessAy']=skewnessAy\n",
        "  dfCal['skewnessAz']=skewnessAz\n",
        "  dfCal['skewnessGx']=skewnessGx\n",
        "  dfCal['skewnessGy']=skewnessGy\n",
        "  dfCal['skewnessGz']=skewnessGz\n",
        "\n",
        "  dfCal['entropyAx']=entropyAx\n",
        "  dfCal['entropyAy']=entropyAy\n",
        "  dfCal['entropyAz']=entropyAz\n",
        "  dfCal['entropyGx']=entropyGx\n",
        "  dfCal['entropyGy']=entropyGy\n",
        "  dfCal['entropyGz']=entropyGz\n",
        "\n",
        "  dfCal['kurtosisAx']=kurtosisAx\n",
        "  dfCal['kurtosisAy']=kurtosisAy\n",
        "  dfCal['kurtosisAz']=kurtosisAz\n",
        "  dfCal['kurtosisGx']=kurtosisGx\n",
        "  dfCal['kurtosisGy']=kurtosisGy\n",
        "  dfCal['kurtosisGz']=kurtosisGz\n",
        "\n",
        "  dfCal['sRMSAx']=sRMSAx\n",
        "  dfCal['sRMSAy']=sRMSAy\n",
        "  dfCal['sRMSAz']=sRMSAz\n",
        "  dfCal['sRMSGx']=sRMSGx\n",
        "  dfCal['sRMSGy']=sRMSGy\n",
        "  dfCal['sRMSGz']=sRMSGz\n",
        "\n",
        "  dfCal['varianceAx']=varianceAx\n",
        "  dfCal['varianceAy']=varianceAy\n",
        "  dfCal['varianceAz']=varianceAz\n",
        "  dfCal['varianceGx']=varianceGx\n",
        "  dfCal['varianceGy']=varianceGy\n",
        "  dfCal['varianceGz']=varianceGz\n",
        "\n",
        "  dfCal['SMA_Ax']=SMA_Ax\n",
        "  dfCal['SMA_Ay']=SMA_Ay\n",
        "  dfCal['SMA_Az']=SMA_Az\n",
        "  dfCal['SMA_Gx']=SMA_Gx\n",
        "  dfCal['SMA_Gy']=SMA_Gy\n",
        "  dfCal['SMA_Gz']=SMA_Gz\n",
        "\n",
        "  # from sklearn import preprocessing\n",
        "  # from imblearn.over_sampling import SMOTE\n",
        "\n",
        "  # ds = pd.DataFrame.copy(dfCal)\n",
        "  # x = ds\n",
        "\n",
        "\n",
        "\n",
        "\n",
        "# x=dfCal.to_csv('/content/drive/MyDrive/Colab Notebooks/Output/Final_Res/f.csv')\n"
      ]
    },
    {
      "cell_type": "code",
      "execution_count": null,
      "metadata": {
        "colab": {
          "background_save": true
        },
        "id": "reHUg1DPOXdi"
      },
      "outputs": [],
      "source": [
        "from flask import Flask, request, jsonify\n",
        "\n",
        "\n",
        "app = Flask(__name__)\n",
        "\n",
        "@app.route('/api', methods = ['GET'])\n",
        "\n",
        "def returnascii():\n",
        "    d = {}\n",
        "    data = str(request.args['query'])\n",
        "    print(data,  file=open('/content/drive/MyDrive/Colab Notebooks/Output/data/dataFromApp.txt', 'w'))\n",
        "    removeZero('/content/drive/MyDrive/Colab Notebooks/Output/data/dataFromApp.txt')\n",
        "    saveResultToCsv()\n",
        "    prepareData()\n",
        "    calMean()\n",
        "    calSkewness()\n",
        "    calEntropy()\n",
        "    calKurtosis()\n",
        "    calSRMS()\n",
        "    calDeviation() \n",
        "    calVariance()\n",
        "    calSMA()\n",
        "    preparFeatures()\n",
        "    # clf = load('/content/drive/MyDrive/Colab Notebooks/Testing/MLP/MLP2.joblib')\n",
        "    answer = \"a\"\n",
        "    d['output'] = answer\n",
        "    return d\n",
        "\n",
        "\n",
        "if __name__ ==\"__main__\":\n",
        "    app.run()"
      ]
    },
    {
      "cell_type": "markdown",
      "metadata": {
        "id": "M03SsNm16ROh"
      },
      "source": [
        "**Autocorrelation Feature**"
      ]
    },
    {
      "cell_type": "code",
      "execution_count": null,
      "metadata": {
        "id": "LhUBW6PTXlop"
      },
      "outputs": [],
      "source": [
        "# print(\"The Autocorrelation  : \\n \", (pd.plotting.lag_plot(dfCal, lag=1)))"
      ]
    },
    {
      "cell_type": "code",
      "execution_count": null,
      "metadata": {
        "id": "4PLgOhTtXnTr"
      },
      "outputs": [],
      "source": [
        "# print(\"The Autocorrelation  : \\n \",pd.plotting.autocorrelation_plot(dfCal))"
      ]
    },
    {
      "cell_type": "markdown",
      "metadata": {
        "id": "kJoQyoisWR5b"
      },
      "source": [
        "## Correlation between features\n"
      ]
    },
    {
      "cell_type": "code",
      "execution_count": null,
      "metadata": {
        "id": "w4BHiH-VWRNb"
      },
      "outputs": [],
      "source": [
        "import seaborn as sns\n",
        "corr = dfCal.corr()\n",
        "sns.heatmap(corr, mask=np.zeros_like(corr, dtype=np.int), cmap=sns.diverging_palette(500, 10, as_cmap=True), square=True)"
      ]
    },
    {
      "cell_type": "markdown",
      "metadata": {
        "id": "zCsre45avMvV"
      },
      "source": [
        "## Random Forest Classifier"
      ]
    },
    {
      "cell_type": "markdown",
      "metadata": {
        "id": "owvxVbxw6bsx"
      },
      "source": [
        "**Before classification, we need to split the datset into test and training parts**"
      ]
    },
    {
      "cell_type": "code",
      "execution_count": null,
      "metadata": {
        "id": "6Sa41nnis1n9"
      },
      "outputs": [],
      "source": [
        "ds = pd.DataFrame.copy(dfCal)\n",
        "x = ds.drop('exName',axis=1)\n",
        "y = ds.exName"
      ]
    },
    {
      "cell_type": "code",
      "execution_count": null,
      "metadata": {
        "id": "dFLRiA1VSuLr"
      },
      "outputs": [],
      "source": [
        "from sklearn import preprocessing\n",
        "from imblearn.over_sampling import SMOTE\n",
        "y = ds['exName']\n",
        "x = ds.drop({'exName'}, axis=1)"
      ]
    },
    {
      "cell_type": "code",
      "execution_count": null,
      "metadata": {
        "id": "OqAmf3rRTEia"
      },
      "outputs": [],
      "source": [
        "from sklearn.model_selection import  train_test_split\n",
        "from sklearn.metrics import accuracy_score, precision_score, recall_score, f1_score, plot_confusion_matrix\n",
        "import matplotlib.pyplot as plt\n",
        "x_train, x_test, y_train, y_test = train_test_split(x, y, test_size=0.20, random_state=27)"
      ]
    },
    {
      "cell_type": "code",
      "execution_count": null,
      "metadata": {
        "id": "Sl5GqhomUs_h"
      },
      "outputs": [],
      "source": [
        "from sklearn.ensemble import RandomForestClassifier\n",
        "estimator = RandomForestClassifier()\n",
        "estimator.fit(x_train,y_train)\n",
        "pred=estimator.predict(x_test)\n",
        "# Accuracy= accuracy_score(y_test, pred)*100\n",
        "Accuracy=accuracy_score(y_test,pred)*100\n",
        "Precision = precision_score(y_test, pred, average=None)*100\n",
        "Recall= recall_score(y_test, pred, average=None)*100\n",
        "F1_score= f1_score(y_test, pred, average=None)*100\n",
        "print('Accuracy = ', Accuracy)\n",
        "print('Precision = ', Precision)\n",
        "print('Recall = ', Recall)\n",
        "print('F1_score= ', F1_score)\n",
        "plot_confusion_matrix(estimator, x_test, y_test)\n",
        "plt.show()\n",
        "from sklearn.metrics import classification_report, recall_score, precision_score, accuracy_score \n",
        "classification_report_actual = classification_report(y_test,pred ) \n",
        "print(classification_report_actual )"
      ]
    },
    {
      "cell_type": "code",
      "execution_count": null,
      "metadata": {
        "id": "RZSeFMwePYgW"
      },
      "outputs": [],
      "source": [
        "# dump(estimator,'/content/drive/MyDrive/Colab Notebooks/Testing/RandomForest/RFC.joblib')\n",
        "# dump(estimator,'/content/drive/MyDrive/Colab Notebooks/Testing/RandomForest/RFC1.joblib')\n",
        "dump(estimator,'/content/drive/MyDrive/Colab Notebooks/Testing/RandomForest/RFC2.joblib')\n",
        "# dump(estimator,'/content/drive/MyDrive/Colab Notebooks/Testing/RandomForest/RFC3.joblib')\n",
        "# dump(estimator,'/content/drive/MyDrive/Colab Notebooks/Testing/RandomForest/RFC4.joblib')\n",
        "\n"
      ]
    },
    {
      "cell_type": "markdown",
      "metadata": {
        "id": "PlCQaEh24Ef6"
      },
      "source": [
        "## Export Model"
      ]
    },
    {
      "cell_type": "code",
      "execution_count": null,
      "metadata": {
        "id": "3KgiEy7Qfzoe"
      },
      "outputs": [],
      "source": [
        "pred_data=\"1,9.845188284518828,8.594142259414227,2.4728033472803346,1.405857740585774,4.405857740585774,10.510460251046025,10.327748430717838,8.0180045079288,7.441454978837749,7.754168305689156,6.115209273854442,10.630371549603591,2.8193765743297807,3.0236752024894242,2.853963981843955,3.1028227989781465,3.145152395657917,2.773626229868499,115.61631508566559,71.40530093032677,84.40393525915763,85.88552809224879,54.62600024064649,117.79084637893943,78.71496697010424,75.79155515382953,59.714978532089134,60.952413018023044,62.699088767043285,102.98600465505842,18.650721820550256,21.0416277741519,20.93310644723597,21.047467522305446,22.22418886533404,21.5897597963179,3265.0,3846.0,3393.0,3592.0,3997.0,3636.0\"\n",
        "# pred_data=\"2,4.054393305439331,8.594142259414227,-3.225941422594142,-1.782426778242678,8.594142259414227,1.5690376569037656,13.421225940150967,8.583556657333316,8.594142259414227,-1.5805634961331965,-10.710646836808522,5.274877275024346,2.3550092357882257,2.290370257319028,2.422855040041899,2.640343500181351,2.599919827076225,2.5779732184712327,198.09042220869847,119.42299366098479,12.469129256104907,9.967671994306883,146.18584490589097,106.96032701196981,56.29758795935969,30.913362535699644,20.21422921512236,23.044617447582837,55.57775660539657,71.01202090470818,18.650721820550256,21.0416277741519,20.93310644723597,21.047467522305446,22.22418886533404,21.5897597963179,2209.0,1723.0,1737.0,2090.0,3198.0,3617.0\"\n",
        "# Ex3 img\n",
        "# pred_data=\"3,0,0,0,0,0,0,0,0,0,0,0,0,0,0,0,0,0,0,0,0,0,0,0,0,0,0,0,0,0,0,0,0,0,0,0,0,0,0,0,0,0,0\"\n",
        "# pred_data=\"2,-0.4560669456066946,-3.3347280334728033,-3.213389121338912,-6.347280334728033,-0.4560669456066946,-0.029288702928870293,8.212887388557954,-1.250238762078528,-4.597847188244983,-9.089859455498447,4.684975263646601,7.058826048600503,2.5765418144117396,2.727989499678518,2.819975135163131,2.828922515978488,2.654231142101784,2.6558972527498383,110.11701462392028,7.769505137156991,45.02891027928918,111.10078442420803,108.34342951836366,113.36152421243821,37.06677227240808,25.409038684332877,37.45602721719693,58.07133832389291,71.7382795523985,55.645132340017625,18.650721820550256,21.0416277741519,20.93310644723597,21.047467522305446,22.22418886533404,21.5897597963179,2419.0,2423.0,3126.0,3689.0,3545.0,2981.0\"\n",
        "pred_data = pred_data.split(',')\n",
        "pred_col = ['exName','meanAx','meanAy','meanAz','meanGx','meanGy','meanGz','skewnessAx','skewnessAy','skewnessAz','skewnessGx','skewnessGy','skewnessGz','entropyAx','entropyAy','entropyAz','entropyGx','entropyGy','entropyGz','kurtosisAx','kurtosisAy','kurtosisAz','kurtosisGx','kurtosisGy','kurtosisGz','sRMSAx','sRMSAy','sRMSAz','sRMSGx','sRMSGy','sRMSGz','varianceAx','varianceAy','varianceAz','varianceGx','varianceGy','varianceGz','SMA_Ax','SMA_Ay','SMA_Az','SMA_Gx','SMA_Gy','SMA_Gz']\n",
        "z = {pred_col[0]:pred_data[0],pred_col[1]:pred_data[1],pred_col[2]:pred_data[2],pred_col[3]:pred_data[3],pred_col[4]:pred_data[4],pred_col[5]:pred_data[5],pred_col[6]:pred_data[6],pred_col[7]:pred_data[7],pred_col[8]:pred_data[8],pred_col[9]:pred_data[9],pred_col[10]:pred_data[10],pred_col[11]:pred_data[11],pred_col[12]:pred_data[12],pred_col[13]:pred_data[13],pred_col[14]:pred_data[14],pred_col[15]:pred_data[15],pred_col[16]:pred_data[16],pred_col[17]:pred_data[17],pred_col[18]:pred_data[18],pred_col[19]:pred_data[19],pred_col[20]:pred_data[20],pred_col[21]:pred_data[21],pred_col[22]:pred_data[22],pred_col[23]:pred_data[23],\n",
        "     pred_col[24]:pred_data[24],pred_col[25]:pred_data[25],pred_col[26]:pred_data[26],pred_col[27]:pred_data[27],\n",
        "     pred_col[28]:pred_data[28],pred_col[29]:pred_data[29],pred_col[30]:pred_data[30],pred_col[31]:pred_data[31],\n",
        "     pred_col[32]:pred_data[32],pred_col[33]:pred_data[33],pred_col[34]:pred_data[34],pred_col[35]:pred_data[35],\n",
        "     pred_col[36]:pred_data[36],pred_col[37]:pred_data[37],pred_col[38]:pred_data[38],pred_col[39]:pred_data[39],\n",
        "     pred_col[40]:pred_data[40],pred_col[41]:pred_data[41],pred_col[42]:pred_data[42]}\n",
        "   \n",
        "k = pd.DataFrame(z,index = [0])\n",
        "k['meanAx'] = k['meanAx'].astype(float)\n",
        "k['meanAy'] = k['meanAy'].astype(float)\n",
        "k['meanAz'] = k['meanAz'].astype(float)\n",
        "k['meanGx'] = k['meanGx'].astype(float)\n",
        "k['meanGy'] = k['meanGy'].astype(float)\n",
        "k['meanGz'] = k['meanGz'].astype(float)\n",
        "k['skewnessAx'] = k['skewnessAx'].astype(float)\n",
        "k['skewnessAy'] = k['skewnessAy'].astype(float)\n",
        "k['skewnessAz'] = k['skewnessAz'].astype(float)\n",
        "k['skewnessGx'] = k['skewnessGx'].astype(float)\n",
        "k['skewnessGy'] = k['skewnessGy'].astype(float)\n",
        "k['skewnessGz'] = k['skewnessGz'].astype(float)\n",
        "k['entropyAx'] = k['entropyAx'].astype(float)\n",
        "k['entropyAy'] = k['entropyAy'].astype(float)\n",
        "k['entropyAz'] = k['entropyAz'].astype(float)\n",
        "k['entropyGx'] = k['entropyGx'].astype(float)\n",
        "k['entropyGy'] = k['entropyGy'].astype(float)\n",
        "k['entropyGz'] = k['entropyGz'].astype(float)\n",
        "k['kurtosisAx'] = k['kurtosisAx'].astype(float)\n",
        "k['kurtosisAy'] = k['kurtosisAy'].astype(float)\n",
        "k['kurtosisAz'] = k['kurtosisAz'].astype(float)\n",
        "k['kurtosisGx'] = k['kurtosisGx'].astype(float)\n",
        "k['kurtosisGy'] = k['kurtosisGy'].astype(float)\n",
        "k['kurtosisGz'] = k['kurtosisGz'].astype(float)\n",
        "k['sRMSAx'] = k['sRMSAx'].astype(float)\n",
        "k['sRMSAy'] = k['sRMSAy'].astype(float)\n",
        "k['sRMSAz'] = k['sRMSAz'].astype(float)\n",
        "k['sRMSGx'] = k['sRMSGx'].astype(float)\n",
        "k['sRMSGy'] = k['sRMSGy'].astype(float)\n",
        "k['sRMSGz'] = k['sRMSGz'].astype(float)\n",
        "k['varianceAx'] = k['varianceAx'].astype(float)\n",
        "k['varianceAy'] = k['varianceAy'].astype(float)\n",
        "k['varianceAz'] = k['varianceAz'].astype(float)\n",
        "k['varianceGx'] = k['varianceGx'].astype(float)\n",
        "k['varianceGy'] = k['varianceGy'].astype(float)\n",
        "k['varianceGz'] = k['varianceGz'].astype(float)\n",
        "k['SMA_Ax'] = k['SMA_Ax'].astype(float)\n",
        "k['SMA_Ay'] = k['SMA_Ay'].astype(float)\n",
        "k['SMA_Az'] = k['SMA_Az'].astype(float)\n",
        "k['SMA_Gx'] = k['SMA_Gx'].astype(float)\n",
        "k['SMA_Gy'] = k['SMA_Gy'].astype(float)\n",
        "k['SMA_Gz'] = k['SMA_Gz'].astype(float)\n",
        "\n",
        "# k\n",
        "s = k[k.columns.difference(['exName'])]\n",
        "k = s.copy()\n",
        "# k\n",
        "\n",
        "# clf = load('/content/drive/MyDrive/Colab Notebooks/Testing/RandomForest/RFC.joblib') \n",
        "# clf = load('/content/drive/MyDrive/Colab Notebooks/Testing/RandomForest/RFC1.joblib') \n",
        "clf = load('/content/drive/MyDrive/Colab Notebooks/Testing/RandomForest/RFC2.joblib') \n",
        "# clf = load('/content/drive/MyDrive/Colab Notebooks/Testing/RandomForest/RFC3.joblib') \n",
        "# clf = load('/content/drive/MyDrive/Colab Notebooks/Testing/RandomForest/RFC4.joblib') \n",
        "\n",
        "predction = clf.predict(k)\n",
        "# predction[0]\n",
        "# predction\n",
        "if predction[0] == '1':\n",
        "  print(\"Exercise 1\")\n",
        "elif predction[0] == '2':\n",
        "  print(\"Exercise 2\")\n",
        "elif predction[0] == '3':\n",
        "  print(\"Exercise 3\")  \n",
        "elif predction[0] == '4':\n",
        "  print(\"Exercise 4\")\n",
        "  print(\"Not Recognized!\")\n",
        "\n",
        "   "
      ]
    },
    {
      "cell_type": "markdown",
      "metadata": {
        "id": "3536Y9CaehxI"
      },
      "source": [
        "## MLP Classifier"
      ]
    },
    {
      "cell_type": "code",
      "execution_count": null,
      "metadata": {
        "id": "QeXUjAymx3as"
      },
      "outputs": [],
      "source": [
        "from sklearn.neural_network import MLPClassifier\n",
        "estimator = MLPClassifier(random_state=1, max_iter=300).fit(x,y)\n",
        "# estimator = MLPClassifier(random_state=1, max_iter=300).fit(x,y)\n",
        "pred=estimator.predict(x_test)\n",
        "Accuracy= accuracy_score(y_test, pred)*100\n",
        "Precision = precision_score(y_test, pred, average=None)*100\n",
        "Recall= recall_score(y_test, pred, average=None)*100\n",
        "F1_score= f1_score(y_test, pred, average=None)*100\n",
        "print('Accuracy = ', Accuracy)\n",
        "print('Precision = ', Precision)\n",
        "print('Recall = ', Recall)\n",
        "print('F1_score= ', F1_score)\n",
        "plot_confusion_matrix(estimator, x_test, y_test)\n",
        "plt.show()\n",
        "classification_report_actual = classification_report(y_test,pred ) \n",
        "print(classification_report_actual )\n",
        "# estimator.fit(x_train,y_train)\n",
        "# pred=estimator.predict(x_test)\n",
        "# Accuracy=accuracy_score(y_test,pred)*100\n",
        "# Precision = precision_score(y_test, pred, average=None)*100\n",
        "# Recall= recall_score(y_test, pred, average=None)*100\n",
        "# F1_score= f1_score(y_test, pred, average=None)*100\n",
        "# print('Accuracy = ', Accuracy)\n",
        "# print('Precision = ', Precision)\n",
        "# print('Recall = ', Recall)\n",
        "# print('F1_score= ', F1_score)\n",
        "# plot_confusion_matrix(estimator, x_test, y_test)\n",
        "# plt.show()\n",
        "# from sklearn.metrics import classification_report, recall_score, precision_score, accuracy_score \n",
        "# classification_report_actual = classification_report(y_test,pred ) \n",
        "# print(classification_report_actual )"
      ]
    },
    {
      "cell_type": "code",
      "execution_count": null,
      "metadata": {
        "id": "kVF7XvbLSSbw"
      },
      "outputs": [],
      "source": [
        "# dump(estimator, 'drive/MyDrive/Colab Notebooks/Testing/MLP/MLP.joblib')\n",
        "# dump(estimator, 'drive/MyDrive/Colab Notebooks/Testing/MLP/MLP1.joblib')\n",
        "dump(estimator, 'drive/MyDrive/Colab Notebooks/Testing/MLP/MLP2.joblib')\n",
        "# dump(estimator, 'drive/MyDrive/Colab Notebooks/Testing/MLP/MLP3.joblib')\n",
        "# dump(estimator, 'drive/MyDrive/Colab Notebooks/Testing/MLP/MLP4.joblib')"
      ]
    },
    {
      "cell_type": "markdown",
      "metadata": {
        "id": "my9Yj5MhexoA"
      },
      "source": [
        "## Test Data"
      ]
    },
    {
      "cell_type": "code",
      "execution_count": null,
      "metadata": {
        "id": "Cj0z56OD720f"
      },
      "outputs": [],
      "source": [
        "pred_data=\"1,9.845188284518828,8.594142259414227,2.4728033472803346,1.405857740585774,4.405857740585774,10.510460251046025,10.327748430717838,8.0180045079288,7.441454978837749,7.754168305689156,6.115209273854442,10.630371549603591,2.8193765743297807,3.0236752024894242,2.853963981843955,3.1028227989781465,3.145152395657917,2.773626229868499,115.61631508566559,71.40530093032677,84.40393525915763,85.88552809224879,54.62600024064649,117.79084637893943,78.71496697010424,75.79155515382953,59.714978532089134,60.952413018023044,62.699088767043285,102.98600465505842,18.650721820550256,21.0416277741519,20.93310644723597,21.047467522305446,22.22418886533404,21.5897597963179,3265.0,3846.0,3393.0,3592.0,3997.0,3636.0\"\n",
        "# pred_data=\"2,4.054393305439331,8.594142259414227,-3.225941422594142,-1.782426778242678,8.594142259414227,1.5690376569037656,13.421225940150967,8.583556657333316,8.594142259414227,-1.5805634961331965,-10.710646836808522,5.274877275024346,2.3550092357882257,2.290370257319028,2.422855040041899,2.640343500181351,2.599919827076225,2.5779732184712327,198.09042220869847,119.42299366098479,12.469129256104907,9.967671994306883,146.18584490589097,106.96032701196981,56.29758795935969,30.913362535699644,20.21422921512236,23.044617447582837,55.57775660539657,71.01202090470818,18.650721820550256,21.0416277741519,20.93310644723597,21.047467522305446,22.22418886533404,21.5897597963179,2209.0,1723.0,1737.0,2090.0,3198.0,3617.0\"\n",
        "# Ex3 img\n",
        "# pred_data=\"3,0,0,0,0,0,0,0,0,0,0,0,0,0,0,0,0,0,0,0,0,0,0,0,0,0,0,0,0,0,0,0,0,0,0,0,0,0,0,0,0,0,0\"\n",
        "# pred_data=\"2,-0.4560669456066946,-3.3347280334728033,-3.213389121338912,-6.347280334728033,-0.4560669456066946,-0.029288702928870293,8.212887388557954,-1.250238762078528,-4.597847188244983,-9.089859455498447,4.684975263646601,7.058826048600503,2.5765418144117396,2.727989499678518,2.819975135163131,2.828922515978488,2.654231142101784,2.6558972527498383,110.11701462392028,7.769505137156991,45.02891027928918,111.10078442420803,108.34342951836366,113.36152421243821,37.06677227240808,25.409038684332877,37.45602721719693,58.07133832389291,71.7382795523985,55.645132340017625,18.650721820550256,21.0416277741519,20.93310644723597,21.047467522305446,22.22418886533404,21.5897597963179,2419.0,2423.0,3126.0,3689.0,3545.0,2981.0\"\n",
        "pred_data = pred_data.split(',')\n",
        "pred_col = ['exName','meanAx','meanAy','meanAz','meanGx','meanGy','meanGz','skewnessAx','skewnessAy','skewnessAz','skewnessGx','skewnessGy','skewnessGz','entropyAx','entropyAy','entropyAz','entropyGx','entropyGy','entropyGz','kurtosisAx','kurtosisAy','kurtosisAz','kurtosisGx','kurtosisGy','kurtosisGz','sRMSAx','sRMSAy','sRMSAz','sRMSGx','sRMSGy','sRMSGz','varianceAx','varianceAy','varianceAz','varianceGx','varianceGy','varianceGz','SMA_Ax','SMA_Ay','SMA_Az','SMA_Gx','SMA_Gy','SMA_Gz']\n",
        "z = {pred_col[0]:pred_data[0],pred_col[1]:pred_data[1],pred_col[2]:pred_data[2],pred_col[3]:pred_data[3],pred_col[4]:pred_data[4],pred_col[5]:pred_data[5],pred_col[6]:pred_data[6],pred_col[7]:pred_data[7],pred_col[8]:pred_data[8],pred_col[9]:pred_data[9],pred_col[10]:pred_data[10],pred_col[11]:pred_data[11],pred_col[12]:pred_data[12],pred_col[13]:pred_data[13],pred_col[14]:pred_data[14],pred_col[15]:pred_data[15],pred_col[16]:pred_data[16],pred_col[17]:pred_data[17],pred_col[18]:pred_data[18],pred_col[19]:pred_data[19],pred_col[20]:pred_data[20],pred_col[21]:pred_data[21],pred_col[22]:pred_data[22],pred_col[23]:pred_data[23],\n",
        "     pred_col[24]:pred_data[24],pred_col[25]:pred_data[25],pred_col[26]:pred_data[26],pred_col[27]:pred_data[27],\n",
        "     pred_col[28]:pred_data[28],pred_col[29]:pred_data[29],pred_col[30]:pred_data[30],pred_col[31]:pred_data[31],\n",
        "     pred_col[32]:pred_data[32],pred_col[33]:pred_data[33],pred_col[34]:pred_data[34],pred_col[35]:pred_data[35],\n",
        "     pred_col[36]:pred_data[36],pred_col[37]:pred_data[37],pred_col[38]:pred_data[38],pred_col[39]:pred_data[39],\n",
        "     pred_col[40]:pred_data[40],pred_col[41]:pred_data[41],pred_col[42]:pred_data[42]}\n",
        "   \n",
        "k = pd.DataFrame(z,index = [0])\n",
        "k['meanAx'] = k['meanAx'].astype(float)\n",
        "k['meanAy'] = k['meanAy'].astype(float)\n",
        "k['meanAz'] = k['meanAz'].astype(float)\n",
        "k['meanGx'] = k['meanGx'].astype(float)\n",
        "k['meanGy'] = k['meanGy'].astype(float)\n",
        "k['meanGz'] = k['meanGz'].astype(float)\n",
        "k['skewnessAx'] = k['skewnessAx'].astype(float)\n",
        "k['skewnessAy'] = k['skewnessAy'].astype(float)\n",
        "k['skewnessAz'] = k['skewnessAz'].astype(float)\n",
        "k['skewnessGx'] = k['skewnessGx'].astype(float)\n",
        "k['skewnessGy'] = k['skewnessGy'].astype(float)\n",
        "k['skewnessGz'] = k['skewnessGz'].astype(float)\n",
        "k['entropyAx'] = k['entropyAx'].astype(float)\n",
        "k['entropyAy'] = k['entropyAy'].astype(float)\n",
        "k['entropyAz'] = k['entropyAz'].astype(float)\n",
        "k['entropyGx'] = k['entropyGx'].astype(float)\n",
        "k['entropyGy'] = k['entropyGy'].astype(float)\n",
        "k['entropyGz'] = k['entropyGz'].astype(float)\n",
        "k['kurtosisAx'] = k['kurtosisAx'].astype(float)\n",
        "k['kurtosisAy'] = k['kurtosisAy'].astype(float)\n",
        "k['kurtosisAz'] = k['kurtosisAz'].astype(float)\n",
        "k['kurtosisGx'] = k['kurtosisGx'].astype(float)\n",
        "k['kurtosisGy'] = k['kurtosisGy'].astype(float)\n",
        "k['kurtosisGz'] = k['kurtosisGz'].astype(float)\n",
        "k['sRMSAx'] = k['sRMSAx'].astype(float)\n",
        "k['sRMSAy'] = k['sRMSAy'].astype(float)\n",
        "k['sRMSAz'] = k['sRMSAz'].astype(float)\n",
        "k['sRMSGx'] = k['sRMSGx'].astype(float)\n",
        "k['sRMSGy'] = k['sRMSGy'].astype(float)\n",
        "k['sRMSGz'] = k['sRMSGz'].astype(float)\n",
        "k['varianceAx'] = k['varianceAx'].astype(float)\n",
        "k['varianceAy'] = k['varianceAy'].astype(float)\n",
        "k['varianceAz'] = k['varianceAz'].astype(float)\n",
        "k['varianceGx'] = k['varianceGx'].astype(float)\n",
        "k['varianceGy'] = k['varianceGy'].astype(float)\n",
        "k['varianceGz'] = k['varianceGz'].astype(float)\n",
        "k['SMA_Ax'] = k['SMA_Ax'].astype(float)\n",
        "k['SMA_Ay'] = k['SMA_Ay'].astype(float)\n",
        "k['SMA_Az'] = k['SMA_Az'].astype(float)\n",
        "k['SMA_Gx'] = k['SMA_Gx'].astype(float)\n",
        "k['SMA_Gy'] = k['SMA_Gy'].astype(float)\n",
        "k['SMA_Gz'] = k['SMA_Gz'].astype(float)\n",
        "\n",
        "# k\n",
        "s = k[k.columns.difference(['exName'])]\n",
        "k = s.copy()\n",
        "# k\n",
        "\n",
        "# clf = load('/content/drive/MyDrive/Colab Notebooks/Testing/MLP/MLP.joblib') \n",
        "# clf = load('/content/drive/MyDrive/Colab Notebooks/Testing/MLP/MLP1.joblib')\n",
        "clf = load('/content/drive/MyDrive/Colab Notebooks/Testing/MLP/MLP2.joblib') \n",
        "# clf = load('/content/drive/MyDrive/Colab Notebooks/Testing/MLP/MLP3.joblib')\n",
        "# clf = load('/content/drive/MyDrive/Colab Notebooks/Testing/MLP/MLP4.joblib') \n",
        "# clf = load('/content/drive/MyDrive/Colab Notebooks/Testing/MLP/MLP.joblib')\n",
        "\n",
        "predction = clf.predict(k)\n",
        "# predction[0]\n",
        "# predction\n",
        "if predction[0] == '1':\n",
        "  print(\"Exercise 1\")\n",
        "elif predction[0] == '2':\n",
        "  print(\"Exercise 2\")\n",
        "elif predction[0] == '3':\n",
        "  print(\"Exercise 3\")  \n",
        "elif predction[0] == '4':\n",
        "  print(\"Exercise 4\")\n",
        "  print(\"Not Recognized!\")\n",
        "\n",
        "   "
      ]
    },
    {
      "cell_type": "code",
      "execution_count": null,
      "metadata": {
        "id": "icDcAiH9Of9H"
      },
      "outputs": [],
      "source": [
        "# import firebase_admin\n",
        "# from firebase_admin import credentials\n",
        "\n",
        "# cred = credentials.Certificate(\"/content/drive/MyDrive/Colab Notebooks/fir-project-868d9-firebase-adminsdk-uy3zr-19aed31e82.json\")\n",
        "# firebase_admin.initialize_app(cred)\n",
        "# # db = firestore.client()"
      ]
    }
  ],
  "metadata": {
    "colab": {
      "collapsed_sections": [],
      "name": "Mobiclinic_V0.ipynb",
      "provenance": [],
      "include_colab_link": true
    },
    "kernelspec": {
      "display_name": "Python 3",
      "name": "python3"
    },
    "language_info": {
      "name": "python"
    }
  },
  "nbformat": 4,
  "nbformat_minor": 0
}